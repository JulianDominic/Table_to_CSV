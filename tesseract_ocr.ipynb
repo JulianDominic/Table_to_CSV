{
 "cells": [
  {
   "cell_type": "code",
   "execution_count": 39,
   "metadata": {},
   "outputs": [],
   "source": [
    "import pytesseract\n",
    "from PIL import Image"
   ]
  },
  {
   "cell_type": "code",
   "execution_count": 40,
   "metadata": {},
   "outputs": [],
   "source": [
    "raw_img_fp = \"data/table_01.jpg\"\n",
    "no_noise_fp = \"temp/no_noise.jpg\""
   ]
  },
  {
   "cell_type": "code",
   "execution_count": 41,
   "metadata": {},
   "outputs": [
    {
     "name": "stdout",
     "output_type": "stream",
     "text": [
      "the arguileth. eae me we Cecided to call an argument valid if the 1\n",
      "cannot all be true without the conclusion being true as well. Lookin avn\n",
      "6 we see that the only row of the table in which both itt wits cane .\n",
      "is row three, and in this row the conclusion is also true. Thus. the truth se\n",
      "confirms that if the premises are all true, the conclusion ith also be tru\n",
      "\n",
      "so the argument is valid.\n",
      "\n",
      "Premises Conclusion\n",
      "P 5O PVO =O j2\n",
      "FF F ae F\n",
      "leu ae T F F\n",
      "6 ie! © Ab ip 1\n",
      "L (aes ue F at\n",
      "Figure 6\n",
      "\n",
      "Example 1.2.3. Determine whether the following arguments are valic\n",
      "\n",
      "1. Either John isn’t stupid and he is 1\n",
      "John is stupid.\n",
      "\n",
      "+. teu Se ee eee\n",
      "\n",
      "azy, or he’s stupid.\n",
      "\n"
     ]
    }
   ],
   "source": [
    "img = Image.open(raw_img_fp)\n",
    "ocr_result = pytesseract.image_to_string(img)\n",
    "print(ocr_result)"
   ]
  },
  {
   "cell_type": "code",
   "execution_count": 42,
   "metadata": {},
   "outputs": [
    {
     "name": "stdout",
     "output_type": "stream",
     "text": [
      "the arguiner. _ mes wwe CeCided to call an argument valid if the premises\n",
      "cannot all be true without the conclusion being true as well. Lookin at ——\n",
      "6 we see that the only row of the table in which both premises come out ir\n",
      "is row three, and in this row the conclusion is also true. Thus, the truth tab!\n",
      "confirms that if the premises are all true, the conclusion must also be tru\n",
      "so the argument is valid.\n",
      "\n",
      "Premises Conclusion\n",
      "P Q Pv@Q -@Q P\n",
      "F 18 F T F\n",
      "F T T F F\n",
      "T F T T T\n",
      "T T T F T\n",
      "Figure 6\n",
      "\n",
      "Example 1.2.3. Determine whether the following arguments are valic\n",
      "\n",
      "|. Either John isn’t stupid and he is lazy, or he’s stupid.\n",
      "John is stupid.\n",
      "\n",
      "wo 1 fee tte lavyu\n",
      "\n"
     ]
    }
   ],
   "source": [
    "img = Image.open(no_noise_fp)\n",
    "ocr_result = pytesseract.image_to_string(img)\n",
    "print(ocr_result)"
   ]
  }
 ],
 "metadata": {
  "kernelspec": {
   "display_name": ".venv",
   "language": "python",
   "name": "python3"
  },
  "language_info": {
   "codemirror_mode": {
    "name": "ipython",
    "version": 3
   },
   "file_extension": ".py",
   "mimetype": "text/x-python",
   "name": "python",
   "nbconvert_exporter": "python",
   "pygments_lexer": "ipython3",
   "version": "3.11.2"
  }
 },
 "nbformat": 4,
 "nbformat_minor": 2
}
